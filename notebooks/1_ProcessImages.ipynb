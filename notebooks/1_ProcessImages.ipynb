{
 "cells": [
  {
   "cell_type": "markdown",
   "id": "92952ea1-ea1f-43a3-a0a6-45ded40d000a",
   "metadata": {},
   "source": [
    "### Process Images In Photos Library\n",
    "Process images in my Photos Library using the pipeline."
   ]
  },
  {
   "cell_type": "code",
   "execution_count": 1,
   "id": "3db19e07-5ab9-465e-bf9d-225773876eab",
   "metadata": {},
   "outputs": [
    {
     "name": "stdout",
     "output_type": "stream",
     "text": [
      "All table names are validated and safe.\n"
     ]
    }
   ],
   "source": [
    "import sys\n",
    "import os\n",
    "import warnings\n",
    "\n",
    "project_root = os.path.abspath(os.path.join(os.getcwd(), \"..\"))\n",
    "\n",
    "sys.path.insert(0, project_root)\n",
    "\n",
    "import glob\n",
    "import logging\n",
    "import concurrent.futures\n",
    "from tqdm import tqdm\n",
    "\n",
    "from sturdy_barnacle.db_utils import DatabaseManager\n",
    "from sturdy_barnacle.image_processor import ImageProcessor\n",
    "\n",
    "warnings.simplefilter(\"ignore\")"
   ]
  },
  {
   "cell_type": "code",
   "execution_count": 2,
   "id": "e3b79535-8b3b-46ad-b109-7ab49ba5da04",
   "metadata": {},
   "outputs": [],
   "source": [
    "db = DatabaseManager()\n",
    "\n",
    "def process_image(image_path: str) -> None:\n",
    "    \"\"\"\n",
    "    Process an image if it hasn’t been processed. \n",
    "    Skips it if already processed and logs any errors.\n",
    "    \"\"\"\n",
    "    try:\n",
    "        if db.is_image_processed(image_path):\n",
    "            logging.info(f\"Skipping {image_path}, already processed.\")\n",
    "            return\n",
    "\n",
    "        processor = ImageProcessor(image_path, db)\n",
    "        processor.process_and_store()\n",
    "\n",
    "    except Exception as e:\n",
    "        logging.error(f\"Error processing {image_path}: {e}\")"
   ]
  },
  {
   "cell_type": "code",
   "execution_count": 3,
   "id": "18015e08-9077-4c7a-bbf7-625a3c0742a4",
   "metadata": {},
   "outputs": [],
   "source": [
    "# IMAGE_DIR = \"/Users/mamduhzabidi/Pictures/Photos Library.photoslibrary/originals/0/\"\n",
    "# IMAGE_DIR = \"/Users/mamduhzabidi/Pictures/Photos Library.photoslibrary/originals/1/\"\n",
    "# IMAGE_DIR = \"/Users/mamduhzabidi/Pictures/Photos Library.photoslibrary/originals/2/\"\n",
    "# IMAGE_DIR = \"/Users/mamduhzabidi/Pictures/Photos Library.photoslibrary/originals/3/\"\n",
    "IMAGE_DIR = \"/Users/mamduhzabidi/Pictures/Photos Library.photoslibrary/originals/4/\"\n",
    "image_paths = glob.glob(f\"{IMAGE_DIR}/*.jpeg\")"
   ]
  },
  {
   "cell_type": "code",
   "execution_count": 4,
   "id": "1a074759-d2ff-4e4c-9dd3-11a011d321e3",
   "metadata": {},
   "outputs": [
    {
     "name": "stderr",
     "output_type": "stream",
     "text": [
      "Processing Images:   0%|                                                                                                                                                                                             | 0/1028 [00:00<?, ?it/s]"
     ]
    },
    {
     "name": "stdout",
     "output_type": "stream",
     "text": [
      "Initializing shared resources...\n",
      "MPS selected. Detectron2 will be forced to use CPU.\n"
     ]
    },
    {
     "data": {
      "application/vnd.jupyter.widget-view+json": {
       "model_id": "f1b2f8c7ee0b4f01bcaf2d0c61dd2078",
       "version_major": 2,
       "version_minor": 0
      },
      "text/plain": [
       "Loading checkpoint shards:   0%|          | 0/2 [00:00<?, ?it/s]"
      ]
     },
     "metadata": {},
     "output_type": "display_data"
    },
    {
     "name": "stdout",
     "output_type": "stream",
     "text": [
      "PaddleOCR initialized using CPU\n",
      "All models loaded successfully!\n"
     ]
    },
    {
     "name": "stderr",
     "output_type": "stream",
     "text": [
      "Processing Images: 100%|███████████████████████████████████████████████████████████████████████████████████████████████████████████████████████████████████████████████████████████████████████████████| 1028/1028 [10:18:01<00:00, 36.07s/it]\n"
     ]
    }
   ],
   "source": [
    "with tqdm(total=len(image_paths), desc=\"Processing Images\") as pbar:\n",
    "    for img in image_paths:\n",
    "        process_image(img)\n",
    "        pbar.update(1)"
   ]
  },
  {
   "cell_type": "code",
   "execution_count": null,
   "id": "fbc63585-71d0-4fe3-9d18-c5d383b81dbb",
   "metadata": {},
   "outputs": [],
   "source": []
  },
  {
   "cell_type": "code",
   "execution_count": null,
   "id": "c99bb66d-3fee-4b1f-a564-75e557c680f5",
   "metadata": {},
   "outputs": [],
   "source": []
  }
 ],
 "metadata": {
  "kernelspec": {
   "display_name": "venv",
   "language": "python",
   "name": "venv"
  },
  "language_info": {
   "codemirror_mode": {
    "name": "ipython",
    "version": 3
   },
   "file_extension": ".py",
   "mimetype": "text/x-python",
   "name": "python",
   "nbconvert_exporter": "python",
   "pygments_lexer": "ipython3",
   "version": "3.11.11"
  }
 },
 "nbformat": 4,
 "nbformat_minor": 5
}
