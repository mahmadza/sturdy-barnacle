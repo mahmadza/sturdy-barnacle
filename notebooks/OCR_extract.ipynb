{
 "cells": [
  {
   "cell_type": "code",
   "execution_count": null,
   "id": "85112b27-77e2-4cc8-9b34-210d969bd856",
   "metadata": {},
   "outputs": [],
   "source": []
  },
  {
   "cell_type": "code",
   "execution_count": 43,
   "id": "f75336f6-ce7d-4f98-b153-0925b69b5f80",
   "metadata": {},
   "outputs": [],
   "source": [
    "from paddleocr import PaddleOCR\n",
    "\n",
    "class FastOCR:\n",
    "    \"\"\"Fast OCR using PaddleOCR with GPU support\"\"\"\n",
    "\n",
    "    _ocr_instance = None\n",
    "\n",
    "    def __init__(self):\n",
    "        if FastOCR._ocr_instance is None:\n",
    "            print(\"Initializing PaddleOCR model... (this happens only once)\")\n",
    "            FastOCR._ocr_instance = PaddleOCR(use_angle_cls=True, lang=\"en\", use_gpu=True)\n",
    "        self.ocr = FastOCR._ocr_instance\n",
    "\n",
    "    def extract_text(self, image_path: str) -> str:\n",
    "        \"\"\"Extracts text from an image using PaddleOCR.\"\"\"\n",
    "        try:\n",
    "            results = self.ocr.ocr(image_path, cls=True)\n",
    "            extracted_text = \" \".join([res[1][0] for res in results[0] if res[1]])\n",
    "            return extracted_text.strip()\n",
    "        except Exception as e:\n",
    "            print(f\"OCR failed for {image_path}: {e}\")\n",
    "            return \"\""
   ]
  },
  {
   "cell_type": "code",
   "execution_count": 49,
   "id": "49a5c194-55f6-44db-a2be-98dd923e8e37",
   "metadata": {},
   "outputs": [],
   "source": [
    "image_path = \"/Users/mamduhzabidi/Pictures/Photos Library.photoslibrary/originals/0/0D7948BB-B79F-4062-8683-9764B55F8808.jpeg\"\n",
    "\n",
    "correct_orientation(image_path)\n",
    "\n",
    "ocr_processor = FastOCR()"
   ]
  },
  {
   "cell_type": "code",
   "execution_count": 47,
   "id": "2c24143c-186b-449b-825a-32ae1c8679ae",
   "metadata": {},
   "outputs": [
    {
     "name": "stdout",
     "output_type": "stream",
     "text": [
      "[2025/02/16 23:42:52] ppocr DEBUG: dt_boxes num : 23, elapsed : 0.5328319072723389\n",
      "[2025/02/16 23:42:52] ppocr DEBUG: cls num  : 23, elapsed : 0.13718485832214355\n",
      "[2025/02/16 23:42:56] ppocr DEBUG: rec_res num  : 23, elapsed : 3.817391872406006\n"
     ]
    }
   ],
   "source": [
    "extracted_text = ocr_processor.extract_text(image_path)"
   ]
  },
  {
   "cell_type": "code",
   "execution_count": null,
   "id": "20120696-48da-4a19-8aa9-c7455924e5d8",
   "metadata": {},
   "outputs": [],
   "source": []
  }
 ],
 "metadata": {
  "kernelspec": {
   "display_name": "venv",
   "language": "python",
   "name": "venv"
  },
  "language_info": {
   "codemirror_mode": {
    "name": "ipython",
    "version": 3
   },
   "file_extension": ".py",
   "mimetype": "text/x-python",
   "name": "python",
   "nbconvert_exporter": "python",
   "pygments_lexer": "ipython3",
   "version": "3.11.11"
  }
 },
 "nbformat": 4,
 "nbformat_minor": 5
}
