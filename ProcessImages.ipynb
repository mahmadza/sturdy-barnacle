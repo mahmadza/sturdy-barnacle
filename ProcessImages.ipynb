{
 "cells": [
  {
   "cell_type": "markdown",
   "id": "92952ea1-ea1f-43a3-a0a6-45ded40d000a",
   "metadata": {},
   "source": [
    "### Run image_processing module"
   ]
  },
  {
   "cell_type": "code",
   "execution_count": 1,
   "id": "3db19e07-5ab9-465e-bf9d-225773876eab",
   "metadata": {},
   "outputs": [],
   "source": [
    "import os\n",
    "import glob\n",
    "import logging\n",
    "import concurrent.futures\n",
    "from tqdm import tqdm\n",
    "\n",
    "from sturdy_barnacle.db_utils import DatabaseManager\n",
    "from sturdy_barnacle.image_processor import ImageProcessor"
   ]
  },
  {
   "cell_type": "code",
   "execution_count": 2,
   "id": "e3b79535-8b3b-46ad-b109-7ab49ba5da04",
   "metadata": {},
   "outputs": [],
   "source": [
    "num_workers = max(os.cpu_count() - 4, 1)\n",
    "\n",
    "logging.basicConfig(\n",
    "    filename=\"image_processing.log\",\n",
    "    level=logging.INFO,\n",
    "    format=\"%(asctime)s - %(levelname)s - %(message)s\"\n",
    ")\n",
    "\n",
    "db = DatabaseManager()\n",
    "\n",
    "def process_image(image_path: str) -> None:\n",
    "    \"\"\"\n",
    "    Process an image if it hasn’t been processed. \n",
    "    Skips it if already processed and logs any errors.\n",
    "    \"\"\"\n",
    "    try:\n",
    "        if db.is_image_processed(image_path):\n",
    "            logging.info(f\"Skipping {image_path}, already processed.\")\n",
    "            return\n",
    "\n",
    "        processor = ImageProcessor(image_path, db)\n",
    "        processor.process_and_store()\n",
    "\n",
    "    except Exception as e:\n",
    "        logging.error(f\"Error processing {image_path}: {e}\")"
   ]
  },
  {
   "cell_type": "code",
   "execution_count": 3,
   "id": "18015e08-9077-4c7a-bbf7-625a3c0742a4",
   "metadata": {},
   "outputs": [],
   "source": [
    "IMAGE_DIR = \"/Users/mamduhzabidi/Pictures/Photos Library.photoslibrary/originals/0/\"\n",
    "image_paths = glob.glob(f\"{IMAGE_DIR}/*.jpeg\")"
   ]
  },
  {
   "cell_type": "code",
   "execution_count": 4,
   "id": "1a074759-d2ff-4e4c-9dd3-11a011d321e3",
   "metadata": {},
   "outputs": [
    {
     "name": "stderr",
     "output_type": "stream",
     "text": [
      "Processing Images:  93%|████████████████████████████████████████████████████████████████████████████████████████████████████████████████████████████████████████████████████████████████████▋             | 917/991 [00:00<00:00, 2021.10it/s]"
     ]
    },
    {
     "data": {
      "application/vnd.jupyter.widget-view+json": {
       "model_id": "8ebe240133aa4b2f8fd872ea3a8a5a0a",
       "version_major": 2,
       "version_minor": 0
      },
      "text/plain": [
       "Loading checkpoint shards:   0%|          | 0/2 [00:00<?, ?it/s]"
      ]
     },
     "metadata": {},
     "output_type": "display_data"
    },
    {
     "name": "stderr",
     "output_type": "stream",
     "text": [
      "/Users/mamduhzabidi/Documents/GitHub/sturdy-barnacle/myenv/lib/python3.11/site-packages/torch/functional.py:507: UserWarning: torch.meshgrid: in an upcoming release, it will be required to pass the indexing argument. (Triggered internally at /Users/runner/work/pytorch/pytorch/pytorch/aten/src/ATen/native/TensorShape.cpp:3550.)\n",
      "  return _VF.meshgrid(tensors, **kwargs)  # type: ignore[attr-defined]\n",
      "Processing Images: 100%|████████████████████████████████████████████████████████████████████████████████████████████████████████████████████████████████████████████████████████████████████████████████████| 991/991 [00:34<00:00, 29.13it/s]"
     ]
    },
    {
     "name": "stdout",
     "output_type": "stream",
     "text": [
      "Error saving image metadata: 'NoneType' object has no attribute 'get'\n"
     ]
    },
    {
     "name": "stderr",
     "output_type": "stream",
     "text": [
      "\n"
     ]
    }
   ],
   "source": [
    "with concurrent.futures.ThreadPoolExecutor(max_workers=num_workers) as executor:\n",
    "    with tqdm(total=len(image_paths), desc=\"Processing Images\") as pbar:\n",
    "        futures = {executor.submit(process_image, img): img for img in image_paths}\n",
    "        for future in concurrent.futures.as_completed(futures):\n",
    "            pbar.update(1)"
   ]
  },
  {
   "cell_type": "code",
   "execution_count": null,
   "id": "49b51ca3-3f2a-475d-82dd-258a82512946",
   "metadata": {},
   "outputs": [],
   "source": []
  }
 ],
 "metadata": {
  "kernelspec": {
   "display_name": "venv",
   "language": "python",
   "name": "venv"
  },
  "language_info": {
   "codemirror_mode": {
    "name": "ipython",
    "version": 3
   },
   "file_extension": ".py",
   "mimetype": "text/x-python",
   "name": "python",
   "nbconvert_exporter": "python",
   "pygments_lexer": "ipython3",
   "version": "3.11.11"
  }
 },
 "nbformat": 4,
 "nbformat_minor": 5
}
