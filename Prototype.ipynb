{
 "cells": [
  {
   "cell_type": "code",
   "execution_count": 3,
   "id": "c814e7e8-437a-403c-bc8c-87b401efc600",
   "metadata": {},
   "outputs": [],
   "source": []
  },
  {
   "cell_type": "code",
   "execution_count": 2,
   "id": "3db19e07-5ab9-465e-bf9d-225773876eab",
   "metadata": {},
   "outputs": [
    {
     "name": "stderr",
     "output_type": "stream",
     "text": [
      "Processing Images:   0%|                                                                                                                                                                                               | 0/10 [00:00<?, ?it/s]"
     ]
    },
    {
     "data": {
      "application/vnd.jupyter.widget-view+json": {
       "model_id": "dbeec0f5059c452fa1dc15bca8cdd18b",
       "version_major": 2,
       "version_minor": 0
      },
      "text/plain": [
       "Loading checkpoint shards:   0%|          | 0/2 [00:00<?, ?it/s]"
      ]
     },
     "metadata": {},
     "output_type": "display_data"
    },
    {
     "data": {
      "application/vnd.jupyter.widget-view+json": {
       "model_id": "456acde3d25745179999848a59a2108c",
       "version_major": 2,
       "version_minor": 0
      },
      "text/plain": [
       "Loading checkpoint shards:   0%|          | 0/2 [00:00<?, ?it/s]"
      ]
     },
     "metadata": {},
     "output_type": "display_data"
    },
    {
     "data": {
      "application/vnd.jupyter.widget-view+json": {
       "model_id": "c218876e9bfa4821bc9ad40bee3c68f6",
       "version_major": 2,
       "version_minor": 0
      },
      "text/plain": [
       "Loading checkpoint shards:   0%|          | 0/2 [00:00<?, ?it/s]"
      ]
     },
     "metadata": {},
     "output_type": "display_data"
    },
    {
     "data": {
      "application/vnd.jupyter.widget-view+json": {
       "model_id": "d8f1f69d266d4a40a9e5b37ad3614d7f",
       "version_major": 2,
       "version_minor": 0
      },
      "text/plain": [
       "Loading checkpoint shards:   0%|          | 0/2 [00:00<?, ?it/s]"
      ]
     },
     "metadata": {},
     "output_type": "display_data"
    },
    {
     "name": "stderr",
     "output_type": "stream",
     "text": [
      "/Users/mamduhzabidi/Documents/GitHub/sturdy-barnacle/myenv/lib/python3.11/site-packages/torch/functional.py:507: UserWarning: torch.meshgrid: in an upcoming release, it will be required to pass the indexing argument. (Triggered internally at /Users/runner/work/pytorch/pytorch/pytorch/aten/src/ATen/native/TensorShape.cpp:3550.)\n",
      "  return _VF.meshgrid(tensors, **kwargs)  # type: ignore[attr-defined]\n",
      "Processing Images: 100%|██████████████████████████████████████████████████████████████████████████████████████████████████████████████████████████████████████████████████████████████████████████████████████| 10/10 [01:53<00:00, 11.35s/it]\n"
     ]
    }
   ],
   "source": [
    "import os\n",
    "import glob\n",
    "import logging\n",
    "import concurrent.futures\n",
    "from tqdm import tqdm\n",
    "\n",
    "from sturdy_barnacle.db_utils import DatabaseManager\n",
    "from sturdy_barnacle.image_processor import ImageProcessor\n",
    "\n",
    "num_workers = max(os.cpu_count() - 4, 1)\n",
    "\n",
    "\n",
    "logging.basicConfig(\n",
    "    filename=\"image_processing.log\",\n",
    "    level=logging.INFO,\n",
    "    format=\"%(asctime)s - %(levelname)s - %(message)s\"\n",
    ")\n",
    "\n",
    "# Initialize DatabaseManager\n",
    "db = DatabaseManager()\n",
    "\n",
    "def process_image(image_path: str) -> None:\n",
    "    \"\"\"\n",
    "    Process an image if it hasn’t been processed. \n",
    "    Skips it if already processed and logs any errors.\n",
    "    \"\"\"\n",
    "    try:\n",
    "        if db.is_image_processed(image_path):\n",
    "            logging.info(f\"Skipping {image_path}, already processed.\")\n",
    "            return\n",
    "\n",
    "        processor = ImageProcessor(image_path, db)\n",
    "        processor.process_and_store()\n",
    "\n",
    "    except Exception as e:\n",
    "        logging.error(f\"Error processing {image_path}: {e}\")\n",
    "\n",
    "\n",
    "IMAGE_DIR = \"/Users/mamduhzabidi/Pictures/Photos Library.photoslibrary/originals/0/\"\n",
    "image_paths = glob.glob(f\"{IMAGE_DIR}/*.jpeg\")\n",
    "\n",
    "image_paths = image_paths[:10]\n",
    "\n",
    "with concurrent.futures.ThreadPoolExecutor(max_workers=num_workers) as executor:\n",
    "    with tqdm(total=len(image_paths), desc=\"Processing Images\") as pbar:\n",
    "        futures = {executor.submit(process_image, img): img for img in image_paths}\n",
    "        for future in concurrent.futures.as_completed(futures):\n",
    "            pbar.update(1)"
   ]
  },
  {
   "cell_type": "code",
   "execution_count": null,
   "id": "e3b79535-8b3b-46ad-b109-7ab49ba5da04",
   "metadata": {},
   "outputs": [],
   "source": []
  }
 ],
 "metadata": {
  "kernelspec": {
   "display_name": "venv",
   "language": "python",
   "name": "venv"
  },
  "language_info": {
   "codemirror_mode": {
    "name": "ipython",
    "version": 3
   },
   "file_extension": ".py",
   "mimetype": "text/x-python",
   "name": "python",
   "nbconvert_exporter": "python",
   "pygments_lexer": "ipython3",
   "version": "3.11.11"
  }
 },
 "nbformat": 4,
 "nbformat_minor": 5
}
