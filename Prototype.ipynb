{
 "cells": [
  {
   "cell_type": "code",
   "execution_count": 1,
   "id": "1a95d64c-f95b-4518-a4f2-d328a45b3bc3",
   "metadata": {},
   "outputs": [
    {
     "data": {
      "text/plain": [
       "'/Users/mamduhzabidi/Pictures/Photos Library.photoslibrary/originals/0/0E62EDEE-1691-43AA-BED9-C97B7FA2F733.jpeg'"
      ]
     },
     "execution_count": 1,
     "metadata": {},
     "output_type": "execute_result"
    }
   ],
   "source": [
    "import os\n",
    "\n",
    "directory_path = '/Users/mamduhzabidi/Pictures/Photos Library.photoslibrary/originals/0/'\n",
    "\n",
    "files = [file for file in os.listdir(directory_path) if file.lower().endswith('.jpeg')]\n",
    "\n",
    "image_path = os.path.join(directory_path, files[0])\n",
    "\n",
    "image_path"
   ]
  },
  {
   "cell_type": "code",
   "execution_count": null,
   "id": "cc94e318-b3ca-4142-aa2e-32dd1745bcaa",
   "metadata": {},
   "outputs": [
    {
     "name": "stderr",
     "output_type": "stream",
     "text": [
      "/Users/mamduhzabidi/Documents/GitHub/sturdy-barnacle/myenv/lib/python3.11/site-packages/tqdm/auto.py:21: TqdmWarning: IProgress not found. Please update jupyter and ipywidgets. See https://ipywidgets.readthedocs.io/en/stable/user_install.html\n",
      "  from .autonotebook import tqdm as notebook_tqdm\n",
      "Downloading shards:   0%|                                                                                                                                                                                               | 0/2 [00:00<?, ?it/s]"
     ]
    }
   ],
   "source": [
    "from sturdy_barnacle.image_processor import ImageProcessor\n",
    "\n",
    "image_processor=ImageProcessor(image_path=image_path)"
   ]
  },
  {
   "cell_type": "code",
   "execution_count": null,
   "id": "a268ce2e-548f-437e-a432-5993347a785c",
   "metadata": {},
   "outputs": [],
   "source": [
    "image_processor.describe_image()"
   ]
  },
  {
   "cell_type": "code",
   "execution_count": 12,
   "id": "402d5ce6-52fb-456d-bc50-4db8f1c89f63",
   "metadata": {},
   "outputs": [
    {
     "data": {
      "text/plain": [
       "'/Users/mamduhzabidi/Documents/GitHub/sturdy-barnacle/sturdy_barnacle/image_processor.py'"
      ]
     },
     "execution_count": 12,
     "metadata": {},
     "output_type": "execute_result"
    }
   ],
   "source": [
    "import sturdy_barnacle.image_processor\n",
    "\n",
    "sturdy_barnacle.image_processor.__file__"
   ]
  },
  {
   "cell_type": "code",
   "execution_count": null,
   "id": "cd73c939-d01a-43fa-85d4-9aa7e08b7718",
   "metadata": {},
   "outputs": [],
   "source": []
  }
 ],
 "metadata": {
  "kernelspec": {
   "display_name": "venv",
   "language": "python",
   "name": "venv"
  },
  "language_info": {
   "codemirror_mode": {
    "name": "ipython",
    "version": 3
   },
   "file_extension": ".py",
   "mimetype": "text/x-python",
   "name": "python",
   "nbconvert_exporter": "python",
   "pygments_lexer": "ipython3",
   "version": "3.11.11"
  }
 },
 "nbformat": 4,
 "nbformat_minor": 5
}
