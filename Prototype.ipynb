{
 "cells": [
  {
   "cell_type": "code",
   "execution_count": 1,
   "id": "1a95d64c-f95b-4518-a4f2-d328a45b3bc3",
   "metadata": {},
   "outputs": [],
   "source": [
    "import os\n",
    "import glob\n",
    "import logging\n",
    "from tqdm import tqdm\n",
    "import concurrent.futures\n",
    "\n",
    "from sturdy_barnacle.image_processor import ImageProcessor\n",
    "from sturdy_barnacle.db_utils import DatabaseManager"
   ]
  },
  {
   "cell_type": "code",
   "execution_count": 2,
   "id": "cc94e318-b3ca-4142-aa2e-32dd1745bcaa",
   "metadata": {},
   "outputs": [],
   "source": [
    "directory_path = '/Users/mamduhzabidi/Pictures/Photos Library.photoslibrary/originals/0/'\n",
    "\n",
    "files = [file for file in os.listdir(directory_path) if file.lower().endswith('.jpeg')]"
   ]
  },
  {
   "cell_type": "code",
   "execution_count": 3,
   "id": "c814e7e8-437a-403c-bc8c-87b401efc600",
   "metadata": {},
   "outputs": [],
   "source": [
    "logging.basicConfig(filename=\"image_processing.log\", level=logging.INFO, format=\"%(asctime)s - %(levelname)s - %(message)s\")\n",
    "\n",
    "db = DatabaseManager()\n",
    "\n",
    "def process_image(image_path):\n",
    "    \"\"\"Process an image if it hasn’t been processed, else skip. Handle corrupt files.\"\"\"\n",
    "\n",
    "    if db.is_image_processed(image_path):\n",
    "        logging.info(f\"Skipping {image_path}, already processed.\")\n",
    "        return\n",
    "\n",
    "    processor = ImageProcessor(image_path)\n",
    "    processor.process_and_store()\n",
    "    logging.info(f\"Successfully processed: {image_path}\")"
   ]
  },
  {
   "cell_type": "code",
   "execution_count": null,
   "id": "a268ce2e-548f-437e-a432-5993347a785c",
   "metadata": {},
   "outputs": [
    {
     "name": "stderr",
     "output_type": "stream",
     "text": [
      "Processing Images:   0%|                                                                                                                                                                                              | 0/991 [00:00<?, ?it/s]"
     ]
    },
    {
     "name": "stdout",
     "output_type": "stream",
     "text": [
      "Initializing shared resources for the first time...\n",
      "Initializing shared resources for the first time...\n",
      "Initializing shared resources for the first time...\n",
      "Initializing shared resources for the first time...\n",
      "Initializing shared resources for the first time...\n",
      "Initializing shared resources for the first time...\n"
     ]
    },
    {
     "data": {
      "application/vnd.jupyter.widget-view+json": {
       "model_id": "0b3adeae0e794222a2f815918e0663a8",
       "version_major": 2,
       "version_minor": 0
      },
      "text/plain": [
       "Loading checkpoint shards:   0%|          | 0/2 [00:00<?, ?it/s]"
      ]
     },
     "metadata": {},
     "output_type": "display_data"
    },
    {
     "data": {
      "application/vnd.jupyter.widget-view+json": {
       "model_id": "f17f31a872a44d51bcd009aff3e872ea",
       "version_major": 2,
       "version_minor": 0
      },
      "text/plain": [
       "Loading checkpoint shards:   0%|          | 0/2 [00:00<?, ?it/s]"
      ]
     },
     "metadata": {},
     "output_type": "display_data"
    },
    {
     "data": {
      "application/vnd.jupyter.widget-view+json": {
       "model_id": "b2bb8d48a6684b56ae17947bfc0c3c61",
       "version_major": 2,
       "version_minor": 0
      },
      "text/plain": [
       "Loading checkpoint shards:   0%|          | 0/2 [00:00<?, ?it/s]"
      ]
     },
     "metadata": {},
     "output_type": "display_data"
    },
    {
     "name": "stderr",
     "output_type": "stream",
     "text": [
      "/Users/mamduhzabidi/Documents/GitHub/sturdy-barnacle/myenv/lib/python3.11/site-packages/torch/functional.py:507: UserWarning: torch.meshgrid: in an upcoming release, it will be required to pass the indexing argument. (Triggered internally at /Users/runner/work/pytorch/pytorch/pytorch/aten/src/ATen/native/TensorShape.cpp:3550.)\n",
      "  return _VF.meshgrid(tensors, **kwargs)  # type: ignore[attr-defined]\n",
      "Processing Images:   5%|█████████▍                                                                                                                                                                         | 52/991 [03:59<1:11:35,  4.57s/it]"
     ]
    },
    {
     "data": {
      "application/vnd.jupyter.widget-view+json": {
       "model_id": "8c649539d4b64e039f62d52764eb1090",
       "version_major": 2,
       "version_minor": 0
      },
      "text/plain": [
       "Loading checkpoint shards:   0%|          | 0/2 [00:00<?, ?it/s]"
      ]
     },
     "metadata": {},
     "output_type": "display_data"
    },
    {
     "data": {
      "application/vnd.jupyter.widget-view+json": {
       "model_id": "9b4b88b70b614ddc8dc5be71d739009a",
       "version_major": 2,
       "version_minor": 0
      },
      "text/plain": [
       "Loading checkpoint shards:   0%|          | 0/2 [00:00<?, ?it/s]"
      ]
     },
     "metadata": {},
     "output_type": "display_data"
    },
    {
     "name": "stderr",
     "output_type": "stream",
     "text": [
      "Processing Images:   5%|█████████▊                                                                                                                                                                         | 54/991 [07:36<3:06:33, 11.95s/it]"
     ]
    }
   ],
   "source": [
    "image_paths = glob.glob(os.path.join(directory_path, \"*.jpeg\"))\n",
    "\n",
    "num_workers = max(os.cpu_count() - 2, 1)\n",
    "\n",
    "with concurrent.futures.ThreadPoolExecutor(max_workers=num_workers) as executor:\n",
    "    with tqdm(total=len(image_paths), desc=\"Processing Images\") as pbar:\n",
    "        futures = {executor.submit(process_image, img): img for img in image_paths}\n",
    "        for future in concurrent.futures.as_completed(futures):\n",
    "            pbar.update(1)            "
   ]
  },
  {
   "cell_type": "code",
   "execution_count": null,
   "id": "0fa1c941-8ab9-46ac-bef6-93170d756fea",
   "metadata": {},
   "outputs": [],
   "source": []
  }
 ],
 "metadata": {
  "kernelspec": {
   "display_name": "venv",
   "language": "python",
   "name": "venv"
  },
  "language_info": {
   "codemirror_mode": {
    "name": "ipython",
    "version": 3
   },
   "file_extension": ".py",
   "mimetype": "text/x-python",
   "name": "python",
   "nbconvert_exporter": "python",
   "pygments_lexer": "ipython3",
   "version": "3.11.11"
  }
 },
 "nbformat": 4,
 "nbformat_minor": 5
}
